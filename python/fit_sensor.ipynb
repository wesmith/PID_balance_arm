{
 "cells": [
  {
   "cell_type": "markdown",
   "metadata": {},
   "source": [
    "## fit_sensor.ipynb\n",
    "\n",
    "### WESmith 01/28/20"
   ]
  },
  {
   "cell_type": "code",
   "execution_count": null,
   "metadata": {},
   "outputs": [],
   "source": [
    "import numpy as np\n",
    "import numpy.polynomial.polynomial as poly\n",
    "import matplotlib.pyplot as plt\n",
    "import pdb\n",
    "%matplotlib inline"
   ]
  },
  {
   "cell_type": "code",
   "execution_count": null,
   "metadata": {},
   "outputs": [],
   "source": [
    "py.rcParams['figure.figsize'] = (15, 6)\n",
    "epsi = np.finfo(float).eps  # minimun float to avoid log10() issues"
   ]
  },
  {
   "cell_type": "code",
   "execution_count": null,
   "metadata": {},
   "outputs": [],
   "source": [
    "# DATA for GP2Y0A21YKOF IR sensor: white ping-pong ball on slide, distance from sensor to front of ping-pong ball\n",
    "# each row: distance (cm), run 1: analogRead() mean over 500 readings, analogRead() stddev over 500 readings, \n",
    "# then run2, run3; each run has a separate placement of the white ping-pong ball on the ball slide; see\n",
    "# 1/28/20 enotes\n",
    "data = np.array([\n",
    "  [10,   467, 14,  463, 12,  466, 12], \n",
    "  [15,  291, 13,  289, 11,  290, 11],\n",
    "  [20,  220, 13,  218, 11,  218, 10],\n",
    "  [25,  195, 12,  194, 10,  194, 10],\n",
    "  [30,   187, 13,  186, 10,  186, 10],\n",
    "  [35,   180, 13,  178, 10,  179, 10],\n",
    "  [40,   172, 12,  169, 11,  169, 10],\n",
    "  [45,   160, 13,  159, 10,  159, 10],\n",
    "  [50,   148, 12,  146, 10,  146, 11]])"
   ]
  },
  {
   "cell_type": "code",
   "execution_count": null,
   "metadata": {},
   "outputs": [],
   "source": [
    "# transform distances to mm (for final fit)\n",
    "data[:,0] = 10 * data[:,0]\n",
    "data"
   ]
  },
  {
   "cell_type": "markdown",
   "metadata": {},
   "source": [
    "### Look at the three runs together (each run has a mean and a standard deviation determined by 500 measurements)"
   ]
  },
  {
   "cell_type": "code",
   "execution_count": null,
   "metadata": {},
   "outputs": [],
   "source": [
    "labels = {1:'Run 1', 3:'Run 2', 5:'Run 3'}\n",
    "dist = data[:,0]\n",
    "for k in [1, 3, 5]:\n",
    "    plt.plot(data[:,k], dist, '.-', label=labels[k])\n",
    "plt.grid(True)\n",
    "plt.legend()\n",
    "plt.ylabel(\"Distance (mm)\")\n",
    "plt.xlabel(\"Raw analogRead() Values\")\n",
    "plt.title(\"Distance vs Raw analogRead() Values\")\n",
    "plt.show()"
   ]
  },
  {
   "cell_type": "code",
   "execution_count": null,
   "metadata": {},
   "outputs": [],
   "source": [
    "# calculate averages over the runs\n",
    "means_analog = np.mean(data[:,[1,3,5]], axis=1)\n",
    "means_stddev = np.mean(data[:,[2,4,6]], axis=1)\n",
    "print(means_analog)"
   ]
  },
  {
   "cell_type": "code",
   "execution_count": null,
   "metadata": {},
   "outputs": [],
   "source": [
    "plt.plot(means_analog, dist, 'o', label='mean analog')\n",
    "plt.plot(means_analog + means_stddev, dist, '.--', label='mean analog + stddev')\n",
    "plt.plot(means_analog - means_stddev, dist, '.--', label='mean analog - stddev')\n",
    "plt.grid(True)\n",
    "plt.legend()\n",
    "plt.ylabel(\"Distance (mm)\")\n",
    "plt.xlabel(\"Mean analogRead() Values Over 3 Trials\")\n",
    "plt.title(\"Mean analogRead() Values vs Distance with analogRead() Stddev\")\n",
    "plt.show()"
   ]
  },
  {
   "cell_type": "markdown",
   "metadata": {},
   "source": [
    "### After much experimentation polynomial fitting and piecewise polynomial fitting all produced less than satisfactory results (experimentation below has been deleted). A simple linear interpolation was then used. This will be implemented on the arduino."
   ]
  },
  {
   "cell_type": "code",
   "execution_count": null,
   "metadata": {},
   "outputs": [],
   "source": [
    "fine_analog_values = np.linspace(means_analog[0], means_analog[-1], 100)"
   ]
  },
  {
   "cell_type": "code",
   "execution_count": null,
   "metadata": {},
   "outputs": [],
   "source": [
    "# NOTE: interp() requires second argument to be in ascending order, thus it was necessary to flip it and flip\n",
    "# its associated distance values, so that they still match up. \n",
    "fine_distance = np.interp(fine_analog_values, np.flip(means_analog), np.flip(dist))"
   ]
  },
  {
   "cell_type": "code",
   "execution_count": null,
   "metadata": {},
   "outputs": [],
   "source": [
    "plt.plot(means_analog, dist, 'o', label='analog data')\n",
    "plt.plot(fine_analog_values, fine_distance, '-', label='linear interpolation')\n",
    "plt.legend()\n",
    "plt.ylabel(\"Distance (mm)\")\n",
    "plt.xlabel(\"analogRead()\")\n",
    "plt.grid()\n",
    "plt.title(\"Distance vs Linearly Interpolated analogRead\")\n",
    "plt.show()"
   ]
  },
  {
   "cell_type": "markdown",
   "metadata": {},
   "source": [
    "### Implement the linear interpolation as a lookup table, simulate a c-like approach for Arduino code."
   ]
  },
  {
   "cell_type": "code",
   "execution_count": null,
   "metadata": {},
   "outputs": [],
   "source": [
    "lut = {}\n",
    "xvals = means_analog\n",
    "yvals = dist"
   ]
  },
  {
   "cell_type": "code",
   "execution_count": null,
   "metadata": {},
   "outputs": [],
   "source": [
    "xvals, yvals"
   ]
  },
  {
   "cell_type": "code",
   "execution_count": null,
   "metadata": {},
   "outputs": [],
   "source": [
    "# simulate a c-like approach for arduino (not pythonic!)\n",
    "xx = np.arange(xvals[-1], xvals[0]).astype(int) + 1 \n",
    "for i in xx: # the loop indices seem strange because xvals decrease while yvals increase\n",
    "    for m in np.arange(len(xvals)-1):\n",
    "        if (i < xvals[m]) and (i >= xvals[m+1]):\n",
    "            lut[i] = ((i - xvals[m]) * (yvals[m+1] - yvals[m])/(xvals[m+1] - xvals[m]) + yvals[m]).astype(int) + 1\n",
    "            break"
   ]
  },
  {
   "cell_type": "code",
   "execution_count": null,
   "metadata": {},
   "outputs": [],
   "source": [
    "y = []\n",
    "for k in xx:\n",
    "    try:\n",
    "        y.append(lut[k])\n",
    "    except:\n",
    "        pass"
   ]
  },
  {
   "cell_type": "code",
   "execution_count": null,
   "metadata": {},
   "outputs": [],
   "source": [
    "plt.plot(means_analog, dist, 'o', label='analog data')\n",
    "plt.plot(xx, y, '-', label='linear interpolation using lookup table')\n",
    "plt.legend()\n",
    "plt.ylabel(\"Distance (mm)\")\n",
    "plt.xlabel(\"analogRead()\")\n",
    "plt.grid()\n",
    "plt.title(\"Distance vs Linearly Interpolated analogRead\")\n",
    "plt.show()"
   ]
  },
  {
   "cell_type": "code",
   "execution_count": null,
   "metadata": {
    "scrolled": true
   },
   "outputs": [],
   "source": [
    "len(y), len(xx)"
   ]
  },
  {
   "cell_type": "code",
   "execution_count": null,
   "metadata": {},
   "outputs": [],
   "source": [
    "xx"
   ]
  },
  {
   "cell_type": "code",
   "execution_count": null,
   "metadata": {},
   "outputs": [],
   "source": [
    "lut"
   ]
  },
  {
   "cell_type": "code",
   "execution_count": null,
   "metadata": {},
   "outputs": [],
   "source": []
  }
 ],
 "metadata": {
  "kernelspec": {
   "display_name": "Python 3",
   "language": "python",
   "name": "python3"
  },
  "language_info": {
   "codemirror_mode": {
    "name": "ipython",
    "version": 3
   },
   "file_extension": ".py",
   "mimetype": "text/x-python",
   "name": "python",
   "nbconvert_exporter": "python",
   "pygments_lexer": "ipython3",
   "version": "3.6.9"
  }
 },
 "nbformat": 4,
 "nbformat_minor": 4
}
